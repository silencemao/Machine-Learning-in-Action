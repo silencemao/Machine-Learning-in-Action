{
 "cells": [
  {
   "cell_type": "markdown",
   "metadata": {},
   "source": [
    "# 朴素贝叶斯之新浪新闻分类(Sklearn)"
   ]
  },
  {
   "cell_type": "markdown",
   "metadata": {},
   "source": [
    "## 1 准备数据, 生成词汇表"
   ]
  },
  {
   "cell_type": "code",
   "execution_count": 23,
   "metadata": {},
   "outputs": [],
   "source": [
    "import os\n",
    "import jieba\n",
    "import random\n",
    "from sklearn.naive_bayes import MultinomialNB\n",
    "import matplotlib.pyplot as plt"
   ]
  },
  {
   "cell_type": "code",
   "execution_count": 9,
   "metadata": {
    "collapsed": true
   },
   "outputs": [],
   "source": [
    "# 将所有的单词生成词汇表\n",
    "# 读入所有文件以及label, 将读进来的数据分成训练集和测试集\n",
    "# 利用训练集中的数据生成词汇表, 并按单词出现的数量由高到底进行排序\n",
    "# 返回词汇表, 训练集, 测试集, 训练label, 测试label\n",
    "def TextProcessing(folder_path, test_size=0.2):\n",
    "    folder_list = os.listdir(folder_path)   # 存放所有数据的主文件夹路径\n",
    "    data_list = []\n",
    "    class_list = []\n",
    "    for folder in folder_list:             # 遍历主文件夹下的每一个文件夹, 也就是每一个类别\n",
    "        new_folder_path = os.path.join(folder_path, folder)\n",
    "        files = os.listdir(new_folder_path) # 当前文件夹下的所有文件\n",
    "        j = 1\n",
    "        for file in files:\n",
    "            if j > 100:\n",
    "                break\n",
    "            with open(os.path.join(new_folder_path, file), 'r', encoding='utf-8') as f:\n",
    "                raw = f.read()\n",
    "            word_cut = jieba.cut(raw, cut_all=False)     # 分词\n",
    "            word_list = list(word_cut)                   \n",
    "            data_list.append(word_list)\n",
    "            class_list.append(folder)\n",
    "            j+=1\n",
    "#     print(data_list)\n",
    "#     print(class_list)    \n",
    "    #      \n",
    "    data_class_list = list(zip(data_list, class_list))  # 将文件和对应的列表压缩在一起\n",
    "    random.shuffle(data_class_list)                     \n",
    "    index = int(len(data_class_list) * test_size) + 1   # 测试集的文件个数\n",
    "    train_list = data_class_list[index:]\n",
    "    test_list = data_class_list[:index]\n",
    "    train_data_list, train_class_list = zip(*train_list) # 解压缩, 分成文件和对应的label\n",
    "    test_data_list, test_class_list = zip(*test_list)\n",
    "    # 统计每一个单词的个数 生成键值对{'单词': num}\n",
    "    all_words_dict = {}\n",
    "    for word_list in train_data_list:\n",
    "        for word in word_list:\n",
    "            if word in all_words_dict.keys():\n",
    "                all_words_dict[word] += 1\n",
    "            else:\n",
    "                all_words_dict[word] = 1\n",
    "    all_words_tuple_list = sorted(all_words_dict.items(), key=lambda f:f[1], reverse=True) # 对值由高到底排序\n",
    "    all_word_list, all_word_nums = zip(*all_words_tuple_list)\n",
    "    all_word_list = list(all_word_list)\n",
    "    return all_word_list, train_data_list, test_data_list, train_class_list, test_class_list\n"
   ]
  },
  {
   "cell_type": "code",
   "execution_count": 14,
   "metadata": {
    "collapsed": true
   },
   "outputs": [],
   "source": [
    "# 制作一个set集合, 里面存储的是一些无用的高频词\n",
    "# 因为上一步生成的词汇表中有一些高频词是: 标点符号, '的 地 得', 以及数字, 我们要将这些去掉\n",
    "# 所以提前准备了一个文件, 里面包含要去掉的单词\n",
    "def makeWordSet(words_file):\n",
    "    word_set = set()\n",
    "    with open(words_file, 'r', encoding='utf-8') as f:\n",
    "        for line in f.readlines():\n",
    "            word = line.strip()     # 去掉这一行的空格\n",
    "            if len(word) > 0: \n",
    "                word_set.add(word)  # 放入set集合\n",
    "    return word_set"
   ]
  },
  {
   "cell_type": "code",
   "execution_count": 52,
   "metadata": {
    "collapsed": true
   },
   "outputs": [],
   "source": [
    "# 将词汇表中的前N个高频词去掉\n",
    "# all_word_list: 词汇表 deleteN: N stopwords_set: 无用词汇集合\n",
    "# 该函数直接不考虑词汇表中的前0-deleteN-1个单词, 从第deleteN开始逐一判断每一个单词是否符合保留的条件\n",
    "# 符合的话就放入feature_words中, 不符合就抛弃, 生成新的词汇表\n",
    "# 返回: 新的词汇表\n",
    "def words_dict(all_word_list, deleteN, stopwords_set = set()):\n",
    "    feature_words = []\n",
    "    n = 1\n",
    "    for t in range(deleteN, len(all_word_list), 1):\n",
    "        if n > 1000:\n",
    "            break\n",
    "        if not all_word_list[t].isdigit() and all_word_list[t] not in stopwords_set and 1 < len(all_word_list[t]) < 5:\n",
    "            feature_words.append(all_word_list[t])\n",
    "        n += 1\n",
    "    return feature_words"
   ]
  },
  {
   "cell_type": "code",
   "execution_count": 53,
   "metadata": {
    "collapsed": true
   },
   "outputs": [],
   "source": [
    "# 文本生成特征向量\n",
    "# train_data_list, test_data_list, feature_words: 训练集, 测试集, 新词汇表\n",
    "# 遍历训练集中的每一个文档\n",
    "#    遍历词汇表中的每一个单词, 如果这个单词出现在文档中, 就把这个位置设置为1, 否则为0\n",
    "#    所以每一个单词生成的词向量长度是len(feature_words)\n",
    "# 返回: 训练集词向量, 测试集词向量\n",
    "def TextFeatures(train_data_list, test_data_list, feature_words):\n",
    "    def text_feature(text, feature_words):\n",
    "        text_words = set(text)\n",
    "        features = [1 if word in text_words else 0 for word in feature_words]\n",
    "        return features\n",
    "    train_feature_list = [text_feature(text, feature_words) for text in train_data_list]\n",
    "    test_feature_list = [text_feature(text, feature_words) for text in test_data_list]\n",
    "    return train_feature_list, test_feature_list"
   ]
  },
  {
   "cell_type": "code",
   "execution_count": 40,
   "metadata": {
    "collapsed": true
   },
   "outputs": [],
   "source": [
    "# 制作分类器\n",
    "def TextClassifier(train_feature_list, test_feature_list, train_class_list, test_class_list):\n",
    "    classifier = MultinomialNB().fit(train_feature_list, train_class_list)\n",
    "    test_accuracy = classifier.score(test_feature_list, test_class_list)\n",
    "    return test_accuracy"
   ]
  },
  {
   "cell_type": "code",
   "execution_count": 60,
   "metadata": {
    "scrolled": true
   },
   "outputs": [
    {
     "data": {
      "image/png": "[encoded data removed]",
      "text/plain": [
       "<matplotlib.figure.Figure at 0x7f1a26c645f8>"
      ]
     },
     "metadata": {},
     "output_type": "display_data"
    }
   ],
   "source": [
    "if __name__ == '__main__':\n",
    "    folder_path = './Machine-Learning-master/Naive Bayes/SogouC/Sample'\n",
    "    all_word_list, train_data_list, test_data_list, train_class_list, test_class_list = TextProcessing(folder_path)\n",
    "    stopwords_file = './Machine-Learning-master/Naive Bayes/stopwords_cn.txt'\n",
    "    stopwords_set = makeWordSet(stopwords_file)\n",
    "#     feature_words = words_dict(all_word_list, 100, stopwords_set)\n",
    "    test_accuracy_list = []\n",
    "    deleteNs = range(0, 1000, 20)\n",
    "    for deleteN in deleteNs:\n",
    "        feature_words = words_dict(all_word_list, deleteN, stopwords_set)\n",
    "        train_feature_list, test_feature_list = TextFeatures(train_data_list, test_data_list, feature_words)\n",
    "        test_accuracy = TextClassifier(train_feature_list, test_feature_list,train_class_list, test_class_list)\n",
    "        test_accuracy_list.append(test_accuracy)\n",
    "    plt.figure()\n",
    "    plt.title('Relationship of deleteNs and test_accuracy')\n",
    "    plt.plot(deleteNs, test_accuracy_list)\n",
    "    plt.xlabel('deleteNs')\n",
    "    plt.ylabel('test_accuracy')\n",
    "    plt.show()"
   ]
  },
  {
   "cell_type": "code",
   "execution_count": 69,
   "metadata": {},
   "outputs": [
    {
     "name": "stdout",
     "output_type": "stream",
     "text": [
      "0.526315789474\n",
      "0.526315789474 [0.52631578947368418]\n"
     ]
    }
   ],
   "source": [
    "if __name__ == '__main__':\n",
    "    folder_path = './Machine-Learning-master/Naive Bayes/SogouC/Sample'\n",
    "    all_word_list, train_data_list, test_data_list, train_class_list, test_class_list = TextProcessing(folder_path)\n",
    "    stopwords_file = './Machine-Learning-master/Naive Bayes/stopwords_cn.txt'\n",
    "    stopwords_set = makeWordSet(stopwords_file)\n",
    "    \n",
    "    test_accuracy_list = []\n",
    "    feature_words = words_dict(all_word_list, 300, stopwords_set)\n",
    "    train_feature_list, test_feature_list = TextFeatures(train_data_list, test_data_list, feature_words)\n",
    "    test_accuracy = TextClassifier(train_feature_list, test_feature_list, train_class_list, test_class_list)\n",
    "    test_accuracy_list.append(test_accuracy)\n",
    "    ave = lambda c: sum(c) / len(c)\n",
    "    \n",
    "    print(ave(test_accuracy_list))\n",
    "    print(test_accuracy, test_accuracy_list)"
   ]
  },
  {
   "cell_type": "code",
   "execution_count": null,
   "metadata": {},
   "outputs": [],
   "source": []
  }
 ],
 "metadata": {
  "kernelspec": {
   "display_name": "Python 3",
   "language": "python",
   "name": "python3"
  },
  "language_info": {
   "codemirror_mode": {
    "name": "ipython",
    "version": 3
   },
   "file_extension": ".py",
   "mimetype": "text/x-python",
   "name": "python",
   "nbconvert_exporter": "python",
   "pygments_lexer": "ipython3",
   "version": "3.5.2"
  }
 },
 "nbformat": 4,
 "nbformat_minor": 2
}
